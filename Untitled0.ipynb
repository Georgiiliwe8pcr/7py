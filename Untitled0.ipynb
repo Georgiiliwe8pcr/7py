{
  "nbformat": 4,
  "nbformat_minor": 0,
  "metadata": {
    "colab": {
      "provenance": [],
      "authorship_tag": "ABX9TyMsb1hHks2Pa/ilBkt2dc0Y",
      "include_colab_link": true
    },
    "kernelspec": {
      "name": "python3",
      "display_name": "Python 3"
    },
    "language_info": {
      "name": "python"
    }
  },
  "cells": [
    {
      "cell_type": "markdown",
      "metadata": {
        "id": "view-in-github",
        "colab_type": "text"
      },
      "source": [
        "<a href=\"https://colab.research.google.com/github/Georgiiliwe8pcr/7py/blob/main/Untitled0.ipynb\" target=\"_parent\"><img src=\"https://colab.research.google.com/assets/colab-badge.svg\" alt=\"Open In Colab\"/></a>"
      ]
    },
    {
      "cell_type": "code",
      "execution_count": null,
      "metadata": {
        "id": "JS12HLagM6wj"
      },
      "outputs": [],
      "source": [
        "import pandas as pd\n",
        "import numpy as np\n",
        "from sklearn.model_selection import train_test_split\n",
        "from sklearn.preprocessing import StandardScaler\n",
        "from sklearn.svm import SVC\n",
        "from sklearn.ensemble import RandomForestClassifier\n",
        "from sklearn.metrics import classification_report\n",
        "\n",
        "# Завантаження датасету (потрібно додати шлях до файлу)\n",
        "# df = pd.read_csv('dataset.csv')  # Замініть на фактичний шлях до файлу\n",
        "\n",
        "# Приклад створення даних (замініть на ваш датасет)\n",
        "# 'x', 'y', 'z' — це осі акселерометра, 'activity' — цільова змінна\n",
        "df = pd.DataFrame({\n",
        "    'x': np.random.randn(1000),\n",
        "    'y': np.random.randn(1000),\n",
        "    'z': np.random.randn(1000),\n",
        "    'activity': np.random.choice(['walking', 'standing', 'running', 'stairs'], size=1000)\n",
        "})\n",
        "\n",
        "# Розділяємо на фічі та мітки\n",
        "X = df[['x', 'y', 'z']]  # Ознаки акселерометра\n",
        "y = df['activity']  # Цільова змінна\n",
        "\n",
        "# Розділяємо на тренувальний та тестовий набори\n",
        "X_train, X_test, y_train, y_test = train_test_split(X, y, test_size=0.3, random_state=42)\n",
        "\n",
        "# Масштабування ознак\n",
        "scaler = StandardScaler()\n",
        "X_train = scaler.fit_transform(X_train)\n",
        "X_test = scaler.transform(X_test)\n",
        "\n",
        "# Видобуток часових ознак\n",
        "def extract_time_domain_features(df):\n",
        "    features = pd.DataFrame()\n",
        "    features['mean_x'] = df['x'].mean()\n",
        "    features['std_x'] = df['x'].std()\n",
        "    features['max_x'] = df['x'].max()\n",
        "    features['min_x'] = df['x'].min()\n",
        "    features['mean_y'] = df['y'].mean()\n",
        "    features['std_y'] = df['y'].std()\n",
        "    features['max_y'] = df['y'].max()\n",
        "    features['min_y'] = df['y'].min()\n",
        "    features['mean_z'] = df['z'].mean()\n",
        "    features['std_z'] = df['z'].std()\n",
        "    features['max_z'] = df['z'].max()\n",
        "    features['min_z'] = df['z'].min()\n",
        "\n",
        "    # Додаємо комбіновані характеристики (наприклад, середнє по всіх осях)\n",
        "    features['mean_xyz'] = df[['x', 'y', 'z']].mean(axis=1)\n",
        "    features['std_xyz'] = df[['x', 'y', 'z']].std(axis=1)\n",
        "\n",
        "    return features\n",
        "\n",
        "# Обчислюємо ознаки для тренувального та тестового наборів\n",
        "X_train_features = extract_time_domain_features(X_train)\n",
        "X_test_features = extract_time_domain_features(X_test)\n",
        "\n",
        "# Модель 1: Support Vector Machine (SVM)\n",
        "svm = SVC(kernel='linear', random_state=42)\n",
        "svm.fit(X_train_features, y_train)\n",
        "\n",
        "# Прогнозування та оцінка SVM\n",
        "y_pred_svm = svm.predict(X_test_features)\n",
        "print(\"SVM Classification Report:\")\n",
        "print(classification_report(y_test, y_pred_svm))\n",
        "\n",
        "# Модель 2: Random Forest\n",
        "rf = RandomForestClassifier(n_estimators=100, random_state=42)\n",
        "rf.fit(X_train_features, y_train)\n",
        "\n",
        "# Прогнозування та оцінка Random Forest\n",
        "y_pred_rf = rf.predict(X_test_features)\n",
        "print(\"Random Forest Classification Report:\")\n",
        "print(classification_report(y_test, y_pred_rf))"
      ]
    },
    {
      "cell_type": "code",
      "source": [
        "!git add ."
      ],
      "metadata": {
        "colab": {
          "base_uri": "https://localhost:8080/"
        },
        "id": "eLWBIyGsUffK",
        "outputId": "469cedba-94b0-4b64-fb96-3fec3028c658"
      },
      "execution_count": 8,
      "outputs": [
        {
          "output_type": "stream",
          "name": "stdout",
          "text": [
            "fatal: not a git repository (or any of the parent directories): .git\n"
          ]
        }
      ]
    },
    {
      "cell_type": "code",
      "source": [
        "!touch config\n",
        "!touch known_hosts"
      ],
      "metadata": {
        "id": "3ROJI0gHTk3G"
      },
      "execution_count": 5,
      "outputs": []
    },
    {
      "cell_type": "markdown",
      "source": [
        "1. Завантаження та підготовка даних\n",
        "python\n",
        "Копіювати код\n",
        "import pandas as pd\n",
        "import numpy as np\n",
        "from sklearn.model_selection import train_test_split\n",
        "from sklearn.preprocessing import StandardScaler\n",
        "from sklearn.svm import SVC\n",
        "from sklearn.ensemble import RandomForestClassifier\n",
        "from sklearn.metrics import classification_report\n",
        "\n",
        "# Завантажуємо датасет (потрібно додати шлях до файлу)\n",
        "# df = pd.read_csv('dataset.csv')  # Замініть на фактичний шлях\n",
        "\n",
        "# Приклад створення даних\n",
        "# Це для тесту, замініть на ваш датасет\n",
        "# 'x', 'y', 'z' — це осі акселерометра, 'activity' — цільова змінна\n",
        "df = pd.DataFrame({\n",
        "    'x': np.random.randn(1000),\n",
        "    'y': np.random.randn(1000),\n",
        "    'z': np.random.randn(1000),\n",
        "    'activity': np.random.choice(['walking', 'standing', 'running', 'stairs'], size=1000)\n",
        "})\n",
        "\n",
        "# Розділяємо на фічі та мітки\n",
        "X = df[['x', 'y', 'z']]  # Ознаки акселерометра\n",
        "y = df['activity']  # Цільова змінна\n",
        "\n",
        "# Розділяємо на тренувальний та тестовий набори\n",
        "X_train, X_test, y_train, y_test = train_test_split(X, y, test_size=0.3, random_state=42)\n",
        "\n",
        "# Масштабування ознак\n",
        "scaler = StandardScaler()\n",
        "X_train = scaler.fit_transform(X_train)\n",
        "X_test = scaler.transform(X_test)\n",
        "2. Видобуток часових ознак\n",
        "Додатково можемо обчислити статистики для кожної осі акселерометра (наприклад, середнє, стандартне відхилення, максимум, мінімум, коефіцієнт варіації).\n",
        "\n",
        "python\n",
        "Копіювати код\n",
        "def extract_time_domain_features(df):\n",
        "    features = pd.DataFrame()\n",
        "    features['mean_x'] = df['x'].mean()\n",
        "    features['std_x'] = df['x'].std()\n",
        "    features['max_x'] = df['x'].max()\n",
        "    features['min_x'] = df['x'].min()\n",
        "    features['mean_y'] = df['y'].mean()\n",
        "    features['std_y'] = df['y'].std()\n",
        "    features['max_y'] = df['y'].max()\n",
        "    features['min_y'] = df['y'].min()\n",
        "    features['mean_z'] = df['z'].mean()\n",
        "    features['std_z'] = df['z'].std()\n",
        "    features['max_z'] = df['z'].max()\n",
        "    features['min_z'] = df['z'].min()\n",
        "\n",
        "    # Додаємо комбіновані характеристики (наприклад, середнє по всіх осях)\n",
        "    features['mean_xyz'] = df[['x', 'y', 'z']].mean(axis=1)\n",
        "    features['std_xyz'] = df[['x', 'y', 'z']].std(axis=1)\n",
        "\n",
        "    return features\n",
        "\n",
        "# Приклад обчислення характеристик для тренувального набору\n",
        "X_train_features = extract_time_domain_features(df)\n",
        "X_test_features = extract_time_domain_features(df)\n",
        "3. Побудова моделей\n",
        "Модель 1: Support Vector Machine (SVM)\n",
        "python\n",
        "Копіювати код\n",
        "# Навчання SVM\n",
        "svm = SVC(kernel='linear', random_state=42)\n",
        "svm.fit(X_train_features, y_train)\n",
        "\n",
        "# Прогнозування та оцінка моделі\n",
        "y_pred_svm = svm.predict(X_test_features)\n",
        "print(\"SVM Classification Report:\")\n",
        "print(classification_report(y_test, y_pred_svm))\n",
        "Модель 2: Random Forest\n",
        "python\n",
        "Копіювати код\n",
        "# Навчання випадкового лісу\n",
        "rf = RandomForestClassifier(n_estimators=100, random_state=42)\n",
        "rf.fit(X_train_features, y_train)\n",
        "\n",
        "# Прогнозування та оцінка моделі\n",
        "y_pred_rf = rf.predict(X_test_features)\n",
        "print(\"Random Forest Classification Report:\")\n",
        "print(classification_report(y_test, y_pred_rf))\n",
        "4. Порівняння моделей\n",
        "Ми використовуємо classification_report для порівняння результатів на основі декількох метрик:\n",
        "\n",
        "Precision: Точність (якщо модель передбачає, що клас належить до позитивного, наскільки це правда).\n",
        "Recall: Повнота (наскільки модель здатна виявити всі позитивні приклади).\n",
        "F1-Score: Комбінація точності та повноти.\n",
        "Accuracy: Відсоток правильних прогнозів"
      ],
      "metadata": {
        "id": "NnJzgdMbNFkt"
      }
    }
  ]
}